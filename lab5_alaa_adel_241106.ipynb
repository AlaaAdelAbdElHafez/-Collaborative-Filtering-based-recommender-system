{
  "cells": [
    {
      "cell_type": "code",
      "execution_count": 5,
      "metadata": {
        "colab": {
          "base_uri": "https://localhost:8080/"
        },
        "id": "T-LO32K6fBIq",
        "outputId": "cae060ae-99b1-4b9b-859a-3aa52c286114"
      },
      "outputs": [
        {
          "output_type": "stream",
          "name": "stdout",
          "text": [
            "Requirement already satisfied: lightfm in /usr/local/lib/python3.10/dist-packages (1.17)\n",
            "Requirement already satisfied: numpy in /usr/local/lib/python3.10/dist-packages (from lightfm) (1.25.2)\n",
            "Requirement already satisfied: scipy>=0.17.0 in /usr/local/lib/python3.10/dist-packages (from lightfm) (1.11.4)\n",
            "Requirement already satisfied: requests in /usr/local/lib/python3.10/dist-packages (from lightfm) (2.31.0)\n",
            "Requirement already satisfied: scikit-learn in /usr/local/lib/python3.10/dist-packages (from lightfm) (1.2.2)\n",
            "Requirement already satisfied: charset-normalizer<4,>=2 in /usr/local/lib/python3.10/dist-packages (from requests->lightfm) (3.3.2)\n",
            "Requirement already satisfied: idna<4,>=2.5 in /usr/local/lib/python3.10/dist-packages (from requests->lightfm) (3.7)\n",
            "Requirement already satisfied: urllib3<3,>=1.21.1 in /usr/local/lib/python3.10/dist-packages (from requests->lightfm) (2.0.7)\n",
            "Requirement already satisfied: certifi>=2017.4.17 in /usr/local/lib/python3.10/dist-packages (from requests->lightfm) (2024.6.2)\n",
            "Requirement already satisfied: joblib>=1.1.1 in /usr/local/lib/python3.10/dist-packages (from scikit-learn->lightfm) (1.4.2)\n",
            "Requirement already satisfied: threadpoolctl>=2.0.0 in /usr/local/lib/python3.10/dist-packages (from scikit-learn->lightfm) (3.5.0)\n"
          ]
        }
      ],
      "source": [
        "# import potential libraries for data analysis\n",
        "\n",
        "!pip install lightfm\n",
        "import pandas as pd\n",
        "import numpy as np\n",
        "from lightfm.evaluation import precision_at_k, auc_score\n"
      ]
    },
    {
      "cell_type": "markdown",
      "metadata": {
        "id": "wsF1lnvIfBIx"
      },
      "source": [
        "In this lab, we will apply learned concepts about recommender system to a movie recommendation task.\n",
        "\n",
        "The given dataset is from a kaggle dataset:https://www.kaggle.com/datasets/rounakbanik/the-movies-dataset\n",
        "\n",
        "These files contain metadata for all 45,000 movies listed in the Full MovieLens Dataset. The dataset consists of movies released on or before July 2017. Data points include cast, crew, plot keywords, budget, revenue, posters, release dates, languages, production companies, countries, TMDB vote counts and vote averages.\n",
        "\n",
        "Your tasks in this lab include two steps: 1) implement a collaborative filtering based recommender system leveraging the dataset and report the performance of your approach, 2) discuss the relaitonship between the popularity of item/user with the performance on related recommendation.\n",
        "\n",
        "You may consider the using the lightFM (https://github.com/lyst/lightfm) for supporting your task.\n",
        "\n"
      ]
    },
    {
      "cell_type": "markdown",
      "metadata": {
        "id": "GIOjvw0HfBI3"
      },
      "source": [
        "Step 1: Collaborative Filtering for recommendation"
      ]
    },
    {
      "cell_type": "code",
      "execution_count": 6,
      "metadata": {
        "id": "16PV8KEdfBI5"
      },
      "outputs": [],
      "source": [
        "# put your code for implementing Step 1 in this code block\n",
        "\n",
        "\n",
        "\n",
        "#movies = pd.read_csv('movies_metadata.csv')\n",
        "ratings = pd.read_csv('ratings_small.csv')\n",
        "\n",
        "from lightfm import LightFM\n",
        "from lightfm.data import Dataset\n",
        "\n",
        "dataset = Dataset()\n",
        "dataset.fit((x for x in ratings['userId']),\n",
        "            (x for x in ratings['movieId']))\n",
        "\n",
        "interactions, weights = dataset.build_interactions(((row['userId'], row['movieId'])\n",
        "                                                    for _, row in ratings.iterrows()))\n"
      ]
    },
    {
      "cell_type": "code",
      "source": [
        "model = LightFM(loss='warp')\n",
        "model.fit(interactions, epochs=30, num_threads=2)\n"
      ],
      "metadata": {
        "colab": {
          "base_uri": "https://localhost:8080/"
        },
        "id": "PWYK6JPXqS_K",
        "outputId": "07b36b3f-21fb-4339-a14e-8a5591fd388e"
      },
      "execution_count": 7,
      "outputs": [
        {
          "output_type": "execute_result",
          "data": {
            "text/plain": [
              "<lightfm.lightfm.LightFM at 0x7ef5a2b8a200>"
            ]
          },
          "metadata": {},
          "execution_count": 7
        }
      ]
    },
    {
      "cell_type": "code",
      "source": [
        "\n",
        "precision = precision_at_k(model, interactions, k=5).mean()\n",
        "print(f'Precision@5: {precision}')\n"
      ],
      "metadata": {
        "colab": {
          "base_uri": "https://localhost:8080/"
        },
        "id": "KwVsa23hqZCr",
        "outputId": "522f57c2-ffb1-45cc-f63a-8fb4d2a4cce6"
      },
      "execution_count": 8,
      "outputs": [
        {
          "output_type": "stream",
          "name": "stdout",
          "text": [
            "Precision@5: 0.5964232683181763\n"
          ]
        }
      ]
    },
    {
      "cell_type": "code",
      "source": [
        "auc = auc_score(model, interactions).mean()\n",
        "print(f'AUC Score: {auc}')"
      ],
      "metadata": {
        "colab": {
          "base_uri": "https://localhost:8080/"
        },
        "id": "RP41_sN-qsOe",
        "outputId": "8e6f6f8d-e5f6-4a88-8a0e-741de268d755"
      },
      "execution_count": 9,
      "outputs": [
        {
          "output_type": "stream",
          "name": "stdout",
          "text": [
            "AUC Score: 0.9635312557220459\n"
          ]
        }
      ]
    },
    {
      "cell_type": "markdown",
      "metadata": {
        "id": "rn4VyMyFfBI7"
      },
      "source": [
        "Step 2: Exploring if the performance on highly popular(with a lot of records) user and item generally higher than the ones on niche user and item.\n",
        "\n"
      ]
    },
    {
      "cell_type": "code",
      "execution_count": 10,
      "metadata": {
        "colab": {
          "base_uri": "https://localhost:8080/"
        },
        "id": "VPBLuNJ2fBI8",
        "outputId": "d83cd381-7d67-415b-b9d3-a62455128baa"
      },
      "outputs": [
        {
          "output_type": "stream",
          "name": "stdout",
          "text": [
            "Item Popularity Correlation: 0.22634770716123465\n",
            "User Activity Correlation: 0.9999999999999999\n"
          ]
        }
      ],
      "source": [
        "# code for stpe 2\n",
        "\n",
        "item_popularity = ratings.groupby('movieId').size()\n",
        "user_activity = ratings.groupby('userId').size()\n",
        "\n",
        "item_popularity_corr = np.corrcoef(item_popularity, interactions.sum(axis=0))[0, 1]\n",
        "user_activity_corr = np.corrcoef(user_activity, interactions.sum(axis=1).T)[0, 1]\n",
        "\n",
        "print(f'Item Popularity Correlation: {item_popularity_corr}')\n",
        "print(f'User Activity Correlation: {user_activity_corr}')\n"
      ]
    },
    {
      "cell_type": "markdown",
      "metadata": {
        "id": "WF5Rs_qlfBI9"
      },
      "source": [
        "# put your findings here\n",
        "\n",
        "\n",
        "### Evaluation Metrics\n",
        "\n",
        "1. **Precision@5**:\n",
        "   - The Precision@5 score is `0.5964`.\n",
        "   - This indicates that approximately 59.64% of the top 5 recommendations for users are relevant, suggesting a relatively high quality of the recommendations generated by the model.\n",
        "\n",
        "2. **AUC Score**:\n",
        "   - The AUC (Area Under the Curve) score is `0.9635`.\n",
        "   - This score is very close to 1, indicating excellent performance in distinguishing between relevant and irrelevant items. A higher AUC score suggests that the model is effective in ranking relevant items higher than irrelevant ones.\n",
        "\n",
        "### Popularity Metrics Correlation\n",
        "\n",
        "1. **Item Popularity Correlation**:\n",
        "   - The correlation between item popularity and interaction sums is `0.2263`.\n",
        "   - This positive correlation, although modest, indicates that more popular items (movies that received more ratings) tend to have higher interaction sums in the dataset. However, the correlation is not very strong, suggesting that other factors also play significant roles in item interactions.\n",
        "\n",
        "2. **User Activity Correlation**:\n",
        "   - The correlation between user activity and interaction sums is `1.0`.\n",
        "   - This near-perfect correlation indicates that users who are more active (users who provided more ratings) have higher interaction sums. This strong correlation is expected because user activity directly contributes to the interaction matrix used by the recommender system.\n",
        "\n"
      ]
    }
  ],
  "metadata": {
    "kernelspec": {
      "display_name": "cisc351w24",
      "language": "python",
      "name": "python3"
    },
    "language_info": {
      "codemirror_mode": {
        "name": "ipython",
        "version": 3
      },
      "file_extension": ".py",
      "mimetype": "text/x-python",
      "name": "python",
      "nbconvert_exporter": "python",
      "pygments_lexer": "ipython3",
      "version": "3.10.9"
    },
    "colab": {
      "provenance": []
    }
  },
  "nbformat": 4,
  "nbformat_minor": 0
}